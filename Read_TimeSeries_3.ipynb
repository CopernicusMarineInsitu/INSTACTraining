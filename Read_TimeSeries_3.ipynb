{
 "cells": [
  {
   "cell_type": "markdown",
   "metadata": {},
   "source": [
    "# Reading a file using CF module"
   ]
  },
  {
   "cell_type": "markdown",
   "metadata": {},
   "source": [
    "The main difference with the previous example is the way we will read the data from the file.\n",
    "\n",
    "Instead of the netCDF4 module, we will use the [cf-python](http://cfpython.bitbucket.org/) package, which implements the [CF data model](http://cfconventions.org/) for the reading, writing and processing of data and metadata. "
   ]
  },
  {
   "cell_type": "code",
   "execution_count": 1,
   "metadata": {
    "collapsed": true
   },
   "outputs": [],
   "source": [
    "%matplotlib inline\n",
    "import cf\n",
    "import netCDF4\n",
    "import matplotlib.pyplot as plt"
   ]
  },
  {
   "cell_type": "markdown",
   "metadata": {},
   "source": [
    "The data file is the same."
   ]
  },
  {
   "cell_type": "code",
   "execution_count": 2,
   "metadata": {
    "collapsed": true
   },
   "outputs": [],
   "source": [
    "dataurl = \"http://thredds.socib.es/thredds/dodsC/mooring/conductivity_and_temperature_recorder/buoy_canaldeibiza-scb_sbe37006/L1/dep0003_buoy-canaldeibiza_scb-sbe37006_L1_latest.nc\""
   ]
  },
  {
   "cell_type": "markdown",
   "metadata": {},
   "source": [
    "## Read the file"
   ]
  },
  {
   "cell_type": "markdown",
   "metadata": {},
   "source": [
    "We use the function *read*. Doing so, we easily obtain a nice summary of the file content."
   ]
  },
  {
   "cell_type": "code",
   "execution_count": 3,
   "metadata": {
    "collapsed": false,
    "scrolled": true
   },
   "outputs": [
    {
     "name": "stdout",
     "output_type": "stream",
     "text": [
      "long_name:station name field summary\n",
      "------------------------------------\n",
      "Data           : long_name:station name(ncdim%name_strlen(33)) \n",
      "Axes           : ncdim%name_strlen(33)\n",
      "\n",
      "sea_water_electrical_conductivity field summary\n",
      "-----------------------------------------------\n",
      "Data           : sea_water_electrical_conductivity(time(1451)) S m-1\n",
      "Axes           : longitude(1) = [0.783667] degree_east\n",
      "               : depth(1) = [1.0] m\n",
      "               : latitude(1) = [38.82445] degree_north\n",
      "               : time(1451) = [2015-10-01 00:00:00, ..., 2015-11-30 10:00:00] gregorian\n",
      "Ancillary vars : <CF Field: sea_water_electrical_conductivity status_flag(time(1451)) >\n",
      "\n",
      "sea_water_salinity field summary\n",
      "--------------------------------\n",
      "Data           : sea_water_salinity(time(1451)) psu\n",
      "Axes           : longitude(1) = [0.783667] degree_east\n",
      "               : depth(1) = [1.0] m\n",
      "               : latitude(1) = [38.82445] degree_north\n",
      "               : time(1451) = [2015-10-01 00:00:00, ..., 2015-11-30 10:00:00] gregorian\n",
      "Ancillary vars : <CF Field: sea_water_salinity status_flag(time(1451)) >\n",
      "\n",
      "sea_water_temperature field summary\n",
      "-----------------------------------\n",
      "Data           : sea_water_temperature(time(1451)) C\n",
      "Axes           : longitude(1) = [0.783667] degree_east\n",
      "               : depth(1) = [1.0] m\n",
      "               : latitude(1) = [38.82445] degree_north\n",
      "               : time(1451) = [2015-10-01 00:00:00, ..., 2015-11-30 10:00:00] gregorian\n",
      "Ancillary vars : <CF Field: sea_water_temperature status_flag(time(1451)) >\n",
      "\n"
     ]
    }
   ],
   "source": [
    "f = cf.read(dataurl)\n",
    "print f"
   ]
  },
  {
   "cell_type": "markdown",
   "metadata": {
    "collapsed": true
   },
   "source": [
    "We see that the file contains 4 variables: \n",
    "1. temperature\n",
    "2. salinity\n",
    "3. conductivity.\n",
    "Each of them has 4 dimensions: longitude, latitude, time and depth."
   ]
  },
  {
   "cell_type": "markdown",
   "metadata": {},
   "source": [
    "## Read variable, coordinates and units"
   ]
  },
  {
   "cell_type": "markdown",
   "metadata": {},
   "source": [
    "From the previous commands we cannot know the name of the variables within the file. But that's not necessary. Temperature can be retrived using its *standard name*:"
   ]
  },
  {
   "cell_type": "code",
   "execution_count": 4,
   "metadata": {
    "collapsed": false
   },
   "outputs": [
    {
     "data": {
      "text/plain": [
       "<CF Field: sea_water_temperature(time(1451)) C>"
      ]
     },
     "execution_count": 4,
     "metadata": {},
     "output_type": "execute_result"
    }
   ],
   "source": [
    "temperature = f.select('sea_water_temperature')\n",
    "temperature"
   ]
  },
  {
   "cell_type": "markdown",
   "metadata": {},
   "source": [
    "The number of variables which have a standard name corresponding to **sea_water_temperature** is:"
   ]
  },
  {
   "cell_type": "code",
   "execution_count": 5,
   "metadata": {
    "collapsed": false
   },
   "outputs": [
    {
     "name": "stdout",
     "output_type": "stream",
     "text": [
      "1\n"
     ]
    }
   ],
   "source": [
    "print len(temperature)"
   ]
  },
  {
   "cell_type": "markdown",
   "metadata": {},
   "source": [
    "but in other cases (ex: different sensors measuring temperature with data in a common file), one can obtain more than one variable.\n",
    "\n",
    "To get the temperature values, we select the first element (index = 0 in python, not 1) and convert it into an array."
   ]
  },
  {
   "cell_type": "code",
   "execution_count": 6,
   "metadata": {
    "collapsed": false
   },
   "outputs": [
    {
     "name": "stdout",
     "output_type": "stream",
     "text": [
      "[23.67 23.67 23.65 23.6 23.56 23.53 23.52 23.54 23.56 23.58 23.63 23.72\n",
      " 23.92 24.13 24.12 24.01 23.83 23.74 23.66 23.65]\n",
      "Temperature units: C\n"
     ]
    }
   ],
   "source": [
    "temperature_values = temperature[0].array\n",
    "temperature_units = temperature[0].units\n",
    "print temperature_values[0:20]\n",
    "print 'Temperature units: ' + temperature_units"
   ]
  },
  {
   "cell_type": "markdown",
   "metadata": {},
   "source": [
    "We inspect the corresponding coordinates: "
   ]
  },
  {
   "cell_type": "code",
   "execution_count": 7,
   "metadata": {
    "collapsed": false
   },
   "outputs": [
    {
     "data": {
      "text/plain": [
       "{'dim0': <CF DimensionCoordinate: time(1451) gregorian>,\n",
       " 'dim1': <CF DimensionCoordinate: latitude(1) degree_north>,\n",
       " 'dim2': <CF DimensionCoordinate: longitude(1) degree_east>,\n",
       " 'dim3': <CF DimensionCoordinate: depth(1) m>}"
      ]
     },
     "execution_count": 7,
     "metadata": {},
     "output_type": "execute_result"
    }
   ],
   "source": [
    "temperature[0].coords()"
   ]
  },
  {
   "cell_type": "markdown",
   "metadata": {},
   "source": [
    "To extract the time variable:"
   ]
  },
  {
   "cell_type": "code",
   "execution_count": 8,
   "metadata": {
    "collapsed": false
   },
   "outputs": [
    {
     "data": {
      "text/plain": [
       "<CF DimensionCoordinate: time(1451) gregorian>"
      ]
     },
     "execution_count": 8,
     "metadata": {},
     "output_type": "execute_result"
    }
   ],
   "source": [
    "time = temperature[0].coord('time')\n",
    "time"
   ]
  },
  {
   "cell_type": "markdown",
   "metadata": {},
   "source": [
    "and to get the values:"
   ]
  },
  {
   "cell_type": "code",
   "execution_count": 9,
   "metadata": {
    "collapsed": false
   },
   "outputs": [
    {
     "name": "stdout",
     "output_type": "stream",
     "text": [
      "[  1.44365760e+09   1.44366120e+09   1.44366480e+09   1.44366840e+09\n",
      "   1.44367200e+09   1.44367560e+09   1.44367920e+09   1.44368280e+09\n",
      "   1.44368640e+09   1.44369000e+09   1.44369360e+09   1.44369720e+09\n",
      "   1.44370080e+09   1.44370440e+09   1.44370800e+09   1.44371160e+09\n",
      "   1.44371520e+09   1.44371880e+09   1.44372240e+09   1.44372600e+09]\n",
      " \n",
      "Time units: seconds since 1970-01-01 00:00:00\n"
     ]
    }
   ],
   "source": [
    "time_values = temperature[0].coord('time').array\n",
    "time_units = temperature[0].coord('time').units\n",
    "print time_values[0:20]\n",
    "print ' '\n",
    "print 'Time units: ' + time_units"
   ]
  },
  {
   "cell_type": "markdown",
   "metadata": {},
   "source": [
    "# A simple plot "
   ]
  },
  {
   "cell_type": "code",
   "execution_count": 11,
   "metadata": {
    "collapsed": false
   },
   "outputs": [
    {
     "data": {
      "image/png": "[encoded data removed]",
      "text/plain": [
       "<matplotlib.figure.Figure at 0x412b550>"
      ]
     },
     "metadata": {},
     "output_type": "display_data"
    }
   ],
   "source": [
    "time2 = netCDF4.num2date(time_values, time_units)\n",
    "plt.plot(time2, temperature_values)\n",
    "plt.ylabel(temperature_units, fontsize=20)\n",
    "plt.show()"
   ]
  },
  {
   "cell_type": "code",
   "execution_count": null,
   "metadata": {
    "collapsed": true
   },
   "outputs": [],
   "source": []
  }
 ],
 "metadata": {
  "kernelspec": {
   "display_name": "Python 2",
   "language": "python",
   "name": "python2"
  },
  "language_info": {
   "codemirror_mode": {
    "name": "ipython",
    "version": 2
   },
   "file_extension": ".py",
   "mimetype": "text/x-python",
   "name": "python",
   "nbconvert_exporter": "python",
   "pygments_lexer": "ipython2",
   "version": "2.7.5+"
  }
 },
 "nbformat": 4,
 "nbformat_minor": 0
}
