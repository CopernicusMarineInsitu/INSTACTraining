{
 "cells": [
  {
   "cell_type": "markdown",
   "metadata": {
    "collapsed": true
   },
   "source": [
    "<h3> ABSTRACT </h3>"
   ]
  },
  {
   "cell_type": "markdown",
   "metadata": {},
   "source": [
    "All CMEMS in situ data products can be found and downloaded after [registration](http://marine.copernicus.eu/services-portfolio/register-now/) via [CMEMS catalogue](http://marine.copernicus.eu/services-portfolio/access-to-products/).\n",
    "\n",
    "Such channel is advisable just for sporadic netCDF donwloading because when operational, interaction with the web user interface is not practical. In this context though, the use of scripts for ftp file transference is is a much more advisable approach.\n",
    "\n",
    "As long as every line of such files contains information about the netCDFs contained within the different directories [see at tips why](https://github.com/CopernicusMarineInsitu/INSTACTraining/blob/master/tips/README.md), it is posible for users to loop over its lines to download only those that matches a number of specifications such as spatial coverage, time coverage, provider, data_mode, parameters or file_name related (region, data type, TS or PF, platform code, or/and platform category, timestamp)."
   ]
  },
  {
   "cell_type": "markdown",
   "metadata": {},
   "source": [
    "<h3> PREREQUISITES </h3>"
   ]
  },
  {
   "cell_type": "markdown",
   "metadata": {},
   "source": [
    "- [credentias](http://marine.copernicus.eu/services-portfolio/register-now/)\n",
    "- aimed [in situ product name](http://cmems-resources.cls.fr/documents/PUM/CMEMS-INS-PUM-013.pdf)\n",
    "- aimed [hosting distribution unit](https://github.com/CopernicusMarineInsitu/INSTACTraining/blob/master/tips/README.md)\n",
    "\n",
    "i.e:"
   ]
  },
  {
   "cell_type": "code",
   "execution_count": 50,
   "metadata": {
    "collapsed": true
   },
   "outputs": [],
   "source": [
    "user = '' #type CMEMS user name\n",
    "password = '' #type CMEMS password\n",
    "product_name = 'INSITU_BAL_NRT_OBSERVATIONS_013_032' #type aimed CMEMS in situ product \n",
    "distribution_unit = 'cmems.smhi.se' #type aimed hosting institution"
   ]
  },
  {
   "cell_type": "markdown",
   "metadata": {},
   "source": [
    "<h3>DOWNLOAD</h3>"
   ]
  },
  {
   "cell_type": "code",
   "execution_count": null,
   "metadata": {
    "collapsed": true
   },
   "outputs": [],
   "source": [
    "import ftplib"
   ]
  },
  {
   "cell_type": "markdown",
   "metadata": {},
   "source": [
    "    1. index history example (NRT & REP products)"
   ]
  },
  {
   "cell_type": "code",
   "execution_count": 51,
   "metadata": {
    "collapsed": false
   },
   "outputs": [
    {
     "data": {
      "text/plain": [
       "'221 Goodbye.'"
      ]
     },
     "execution_count": 51,
     "metadata": {},
     "output_type": "execute_result"
    }
   ],
   "source": [
    "ftp=ftplib.FTP(distribution_unit,user,password) \n",
    "ftp.cwd(\"Core\")\n",
    "ftp.cwd(product_name) \n",
    "aimedFileName = 'index_history.txt'\n",
    "local_filename = aimedFileName\n",
    "local_file = open(local_filename, 'wb')\n",
    "ftp.retrbinary('RETR ' + aimedFileName, local_file.write)\n",
    "local_file.close()\n",
    "ftp.quit()\n",
    "#ready when 221 Goodbye.!"
   ]
  },
  {
   "cell_type": "markdown",
   "metadata": {
    "collapsed": true
   },
   "source": [
    "    2. index monthly example (NRT products)"
   ]
  },
  {
   "cell_type": "code",
   "execution_count": 34,
   "metadata": {
    "collapsed": false
   },
   "outputs": [
    {
     "data": {
      "text/plain": [
       "'221 Goodbye.'"
      ]
     },
     "execution_count": 34,
     "metadata": {},
     "output_type": "execute_result"
    }
   ],
   "source": [
    "ftp=ftplib.FTP(distribution_unit,user,password) \n",
    "ftp.cwd(\"Core\")\n",
    "ftp.cwd(product_name) \n",
    "aimedFileName = 'index_monthly.txt'\n",
    "local_filename = aimedFileName\n",
    "local_file = open(local_filename, 'wb')\n",
    "ftp.retrbinary('RETR ' + aimedFileName, local_file.write)\n",
    "local_file.close()\n",
    "ftp.quit()\n",
    "#ready when 221 Goodbye.!"
   ]
  },
  {
   "cell_type": "markdown",
   "metadata": {},
   "source": [
    "    3. index latest example (NRT products)"
   ]
  },
  {
   "cell_type": "code",
   "execution_count": 35,
   "metadata": {
    "collapsed": false
   },
   "outputs": [
    {
     "data": {
      "text/plain": [
       "'221 Goodbye.'"
      ]
     },
     "execution_count": 35,
     "metadata": {},
     "output_type": "execute_result"
    }
   ],
   "source": [
    "ftp=ftplib.FTP(distribution_unit,user,password) \n",
    "ftp.cwd(\"Core\")\n",
    "ftp.cwd(product_name) \n",
    "aimedFileName = 'index_latest.txt'\n",
    "local_filename = aimedFileName\n",
    "local_file = open(local_filename, 'wb')\n",
    "ftp.retrbinary('RETR ' + aimedFileName, local_file.write)\n",
    "local_file.close()\n",
    "ftp.quit()\n",
    "#ready when 221 Goodbye.!"
   ]
  },
  {
   "cell_type": "markdown",
   "metadata": {},
   "source": [
    "<h3>QUICK VIEW</h3>"
   ]
  },
  {
   "cell_type": "code",
   "execution_count": 52,
   "metadata": {
    "collapsed": true
   },
   "outputs": [],
   "source": [
    "import numpy as np\n",
    "import pandas as pd\n",
    "from random import randint"
   ]
  },
  {
   "cell_type": "code",
   "execution_count": 53,
   "metadata": {
    "collapsed": true
   },
   "outputs": [],
   "source": [
    "index_file = 'index_history.txt' #choose index file to look at a ramdom line"
   ]
  },
  {
   "cell_type": "code",
   "execution_count": 54,
   "metadata": {
    "collapsed": true
   },
   "outputs": [],
   "source": [
    "index = np.genfromtxt(index_file, skip_header=6, unpack=False, delimiter=',', dtype=None,\n",
    "           names=['catalog_id', 'file_name', 'geospatial_lat_min', 'geospatial_lat_max',\n",
    "                     'geospatial_lon_min', 'geospatial_lon_max',\n",
    "                     'time_coverage_start', 'time_coverage_end', \n",
    "                     'provider', 'date_update', 'data_mode', 'parameters'])"
   ]
  },
  {
   "cell_type": "code",
   "execution_count": 55,
   "metadata": {
    "collapsed": true
   },
   "outputs": [],
   "source": [
    "dataset = randint(0,len(index)) #ramdom line of the index file"
   ]
  },
  {
   "cell_type": "code",
   "execution_count": 56,
   "metadata": {
    "collapsed": false
   },
   "outputs": [
    {
     "data": {
      "text/html": [
       "\n",
       "        <style  type=\"text/css\" >\n",
       "        \n",
       "        \n",
       "        </style>\n",
       "\n",
       "        <table id=\"T_285c2a8c_3b0a_11e7_9c34_64006a8d5c4b\" None>\n",
       "        \n",
       "\n",
       "        <thead>\n",
       "            \n",
       "            <tr>\n",
       "                \n",
       "                \n",
       "                <th class=\"blank level0\" >\n",
       "                  \n",
       "                \n",
       "                \n",
       "                \n",
       "                <th class=\"col_heading level0 col0\" colspan=1>\n",
       "                  875\n",
       "                \n",
       "                \n",
       "            </tr>\n",
       "            \n",
       "        </thead>\n",
       "        <tbody>\n",
       "            \n",
       "            <tr>\n",
       "                \n",
       "                \n",
       "                <th id=\"T_285c2a8c_3b0a_11e7_9c34_64006a8d5c4b\"\n",
       "                 class=\"row_heading level0 row0\" rowspan=1>\n",
       "                    catalog_id\n",
       "                \n",
       "                \n",
       "                \n",
       "                <td id=\"T_285c2a8c_3b0a_11e7_9c34_64006a8d5c4brow0_col0\"\n",
       "                 class=\"data row0 col0\" >\n",
       "                    COP-BO-01\n",
       "                \n",
       "                \n",
       "            </tr>\n",
       "            \n",
       "            <tr>\n",
       "                \n",
       "                \n",
       "                <th id=\"T_285c2a8c_3b0a_11e7_9c34_64006a8d5c4b\"\n",
       "                 class=\"row_heading level0 row1\" rowspan=1>\n",
       "                    file_name\n",
       "                \n",
       "                \n",
       "                \n",
       "                <td id=\"T_285c2a8c_3b0a_11e7_9c34_64006a8d5c4brow1_col0\"\n",
       "                 class=\"data row1 col0\" >\n",
       "                    <a href=ftp://cmems.smhi.se/Core/INSITU_BAL_NRT_OBSERVATIONS_013_032/history/vessel/BO_PR_CT_STO0901016.nc>ftp://cmems.smhi.se/Core/INSITU_BAL_NRT_OBSERVATIONS_013_032/history/vessel/BO_PR_CT_STO0901016.nc</a>\n",
       "                \n",
       "                \n",
       "            </tr>\n",
       "            \n",
       "            <tr>\n",
       "                \n",
       "                \n",
       "                <th id=\"T_285c2a8c_3b0a_11e7_9c34_64006a8d5c4b\"\n",
       "                 class=\"row_heading level0 row2\" rowspan=1>\n",
       "                    geospatial_lat_min\n",
       "                \n",
       "                \n",
       "                \n",
       "                <td id=\"T_285c2a8c_3b0a_11e7_9c34_64006a8d5c4brow2_col0\"\n",
       "                 class=\"data row2 col0\" >\n",
       "                    54.8117\n",
       "                \n",
       "                \n",
       "            </tr>\n",
       "            \n",
       "            <tr>\n",
       "                \n",
       "                \n",
       "                <th id=\"T_285c2a8c_3b0a_11e7_9c34_64006a8d5c4b\"\n",
       "                 class=\"row_heading level0 row3\" rowspan=1>\n",
       "                    geospatial_lat_max\n",
       "                \n",
       "                \n",
       "                \n",
       "                <td id=\"T_285c2a8c_3b0a_11e7_9c34_64006a8d5c4brow3_col0\"\n",
       "                 class=\"data row3 col0\" >\n",
       "                    55\n",
       "                \n",
       "                \n",
       "            </tr>\n",
       "            \n",
       "            <tr>\n",
       "                \n",
       "                \n",
       "                <th id=\"T_285c2a8c_3b0a_11e7_9c34_64006a8d5c4b\"\n",
       "                 class=\"row_heading level0 row4\" rowspan=1>\n",
       "                    geospatial_lon_min\n",
       "                \n",
       "                \n",
       "                \n",
       "                <td id=\"T_285c2a8c_3b0a_11e7_9c34_64006a8d5c4brow4_col0\"\n",
       "                 class=\"data row4 col0\" >\n",
       "                    12\n",
       "                \n",
       "                \n",
       "            </tr>\n",
       "            \n",
       "            <tr>\n",
       "                \n",
       "                \n",
       "                <th id=\"T_285c2a8c_3b0a_11e7_9c34_64006a8d5c4b\"\n",
       "                 class=\"row_heading level0 row5\" rowspan=1>\n",
       "                    geospatial_lon_max\n",
       "                \n",
       "                \n",
       "                \n",
       "                <td id=\"T_285c2a8c_3b0a_11e7_9c34_64006a8d5c4brow5_col0\"\n",
       "                 class=\"data row5 col0\" >\n",
       "                    12.3353\n",
       "                \n",
       "                \n",
       "            </tr>\n",
       "            \n",
       "            <tr>\n",
       "                \n",
       "                \n",
       "                <th id=\"T_285c2a8c_3b0a_11e7_9c34_64006a8d5c4b\"\n",
       "                 class=\"row_heading level0 row6\" rowspan=1>\n",
       "                    time_coverage_start\n",
       "                \n",
       "                \n",
       "                \n",
       "                <td id=\"T_285c2a8c_3b0a_11e7_9c34_64006a8d5c4brow6_col0\"\n",
       "                 class=\"data row6 col0\" >\n",
       "                    2001-01-02T11:26:00Z\n",
       "                \n",
       "                \n",
       "            </tr>\n",
       "            \n",
       "            <tr>\n",
       "                \n",
       "                \n",
       "                <th id=\"T_285c2a8c_3b0a_11e7_9c34_64006a8d5c4b\"\n",
       "                 class=\"row_heading level0 row7\" rowspan=1>\n",
       "                    time_coverage_end\n",
       "                \n",
       "                \n",
       "                \n",
       "                <td id=\"T_285c2a8c_3b0a_11e7_9c34_64006a8d5c4brow7_col0\"\n",
       "                 class=\"data row7 col0\" >\n",
       "                    2009-12-14T08:58:00Z\n",
       "                \n",
       "                \n",
       "            </tr>\n",
       "            \n",
       "            <tr>\n",
       "                \n",
       "                \n",
       "                <th id=\"T_285c2a8c_3b0a_11e7_9c34_64006a8d5c4b\"\n",
       "                 class=\"row_heading level0 row8\" rowspan=1>\n",
       "                    provider\n",
       "                \n",
       "                \n",
       "                \n",
       "                <td id=\"T_285c2a8c_3b0a_11e7_9c34_64006a8d5c4brow8_col0\"\n",
       "                 class=\"data row8 col0\" >\n",
       "                    DMU\n",
       "                \n",
       "                \n",
       "            </tr>\n",
       "            \n",
       "            <tr>\n",
       "                \n",
       "                \n",
       "                <th id=\"T_285c2a8c_3b0a_11e7_9c34_64006a8d5c4b\"\n",
       "                 class=\"row_heading level0 row9\" rowspan=1>\n",
       "                    date_update\n",
       "                \n",
       "                \n",
       "                \n",
       "                <td id=\"T_285c2a8c_3b0a_11e7_9c34_64006a8d5c4brow9_col0\"\n",
       "                 class=\"data row9 col0\" >\n",
       "                    2017-05-07T16:03:07Z\n",
       "                \n",
       "                \n",
       "            </tr>\n",
       "            \n",
       "            <tr>\n",
       "                \n",
       "                \n",
       "                <th id=\"T_285c2a8c_3b0a_11e7_9c34_64006a8d5c4b\"\n",
       "                 class=\"row_heading level0 row10\" rowspan=1>\n",
       "                    data_mode\n",
       "                \n",
       "                \n",
       "                \n",
       "                <td id=\"T_285c2a8c_3b0a_11e7_9c34_64006a8d5c4brow10_col0\"\n",
       "                 class=\"data row10 col0\" >\n",
       "                    D\n",
       "                \n",
       "                \n",
       "            </tr>\n",
       "            \n",
       "            <tr>\n",
       "                \n",
       "                \n",
       "                <th id=\"T_285c2a8c_3b0a_11e7_9c34_64006a8d5c4b\"\n",
       "                 class=\"row_heading level0 row11\" rowspan=1>\n",
       "                    parameters\n",
       "                \n",
       "                \n",
       "                \n",
       "                <td id=\"T_285c2a8c_3b0a_11e7_9c34_64006a8d5c4brow11_col0\"\n",
       "                 class=\"data row11 col0\" >\n",
       "                    PSAL TUR4 DEPH SVEL PRES DOX1 TEMP FLU2 LGHT\n",
       "                \n",
       "                \n",
       "            </tr>\n",
       "            \n",
       "        </tbody>\n",
       "        </table>\n",
       "        "
      ],
      "text/plain": [
       "<pandas.formats.style.Styler at 0x7f9779324790>"
      ]
     },
     "execution_count": 56,
     "metadata": {},
     "output_type": "execute_result"
    }
   ],
   "source": [
    "values = [index[dataset]['catalog_id'], '<a href='+index[dataset]['file_name']+'>'+index[dataset]['file_name']+'</a>', index[dataset]['geospatial_lat_min'], index[dataset]['geospatial_lat_max'],\n",
    "                 index[dataset]['geospatial_lon_min'], index[dataset]['geospatial_lon_max'], index[dataset]['time_coverage_start'],\n",
    "                 index[dataset]['time_coverage_end'], index[dataset]['provider'], index[dataset]['date_update'], index[dataset]['data_mode'],\n",
    "                 index[dataset]['parameters']]\n",
    "headers = ['catalog_id', 'file_name', 'geospatial_lat_min', 'geospatial_lat_max',\n",
    "                     'geospatial_lon_min', 'geospatial_lon_max',\n",
    "                     'time_coverage_start', 'time_coverage_end', \n",
    "                     'provider', 'date_update', 'data_mode', 'parameters']\n",
    "df = pd.DataFrame(values, index=headers, columns=[dataset])\n",
    "df.style"
   ]
  },
  {
   "cell_type": "code",
   "execution_count": null,
   "metadata": {
    "collapsed": true
   },
   "outputs": [],
   "source": []
  }
 ],
 "metadata": {
  "kernelspec": {
   "display_name": "Python [Root]",
   "language": "python",
   "name": "Python [Root]"
  },
  "language_info": {
   "codemirror_mode": {
    "name": "ipython",
    "version": 2
   },
   "file_extension": ".py",
   "mimetype": "text/x-python",
   "name": "python",
   "nbconvert_exporter": "python",
   "pygments_lexer": "ipython2",
   "version": "2.7.12"
  }
 },
 "nbformat": 4,
 "nbformat_minor": 0
}
