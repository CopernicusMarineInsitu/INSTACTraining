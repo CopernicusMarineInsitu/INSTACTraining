{
 "cells": [
  {
   "cell_type": "markdown",
   "metadata": {},
   "source": [
    "The goal is to see how we can read the data contained in a netCDF file. Several possibilities will be examined."
   ]
  },
  {
   "cell_type": "markdown",
   "metadata": {},
   "source": [
    "# Reading a local file"
   ]
  },
  {
   "cell_type": "markdown",
   "metadata": {},
   "source": [
    "Let's assume we have downlowded a file from [CMEMS](http://marine.copernicus.eu/). We define the directory and the file name. *datafile* have to be adapted according to your case. "
   ]
  },
  {
   "cell_type": "code",
   "execution_count": 5,
   "metadata": {
    "collapsed": true
   },
   "outputs": [],
   "source": [
    "datafile = \"~/CMEMS_INSTAC/INSITU_MED_NRT_OBSERVATIONS_013_035/history/mooring/IR_TS_MO_61198.nc\""
   ]
  },
  {
   "cell_type": "code",
   "execution_count": 6,
   "metadata": {
    "collapsed": false
   },
   "outputs": [],
   "source": [
    "import os\n",
    "datafile = os.path.expanduser(datafile)"
   ]
  },
  {
   "cell_type": "markdown",
   "metadata": {},
   "source": [
    "To read the file we need the [netCDF4 interface](http://unidata.github.io/netcdf4-python/) for python. "
   ]
  },
  {
   "cell_type": "code",
   "execution_count": 7,
   "metadata": {
    "collapsed": true
   },
   "outputs": [],
   "source": [
    "import netCDF4\n",
    "ds = netCDF4.Dataset(datafile, 'r')"
   ]
  },
  {
   "cell_type": "markdown",
   "metadata": {},
   "source": [
    "where the first argurment of the files and **'r'** indicates that it's open for reading (**'w'** would be used for writing).<br/> \n",
    "**ds** contains all the information about the dataset:\n",
    "* Metadata (global attributes)\n",
    "* Dimensions\n",
    "* Variables"
   ]
  },
  {
   "cell_type": "markdown",
   "metadata": {},
   "source": [
    "## Metadata"
   ]
  },
  {
   "cell_type": "code",
   "execution_count": 8,
   "metadata": {
    "collapsed": false,
    "scrolled": true
   },
   "outputs": [
    {
     "data": {
      "text/plain": [
       "<type 'netCDF4._netCDF4.Dataset'>\n",
       "root group (NETCDF3_CLASSIC data model, file format UNDEFINED):\n",
       "    data_type: OceanSITES time-series data\n",
       "    format_version: 1.2\n",
       "    platform_code: 61198\n",
       "    date_update: 2015-08-02T11:20:44Z\n",
       "    institution: Puertos del Estado (Spain)\n",
       "    institution_edmo_code: 2751\n",
       "    site_code:  \n",
       "    wmo_platform_code: 61198\n",
       "    source: Mooring observation\n",
       "    history: 2015-08-02T11:20:44Z: Creation\n",
       "    data_mode: R\n",
       "    quality_control_indicator: 6\n",
       "    quality_index: A\n",
       "    references: http://www.oceansites.org, http://www.myocean.eu.org/, http://www.puertos.es, http://www.puertos.es\n",
       "    comment:  \n",
       "    conventions: OceanSITES Manual 1.2, InSituTac-Specification-Document\n",
       "    netcdf_version: 3.5\n",
       "    title:  \n",
       "    summary:  \n",
       "    naming_authority: OceanSITES\n",
       "    id: IR_TS_MO_61198\n",
       "    cdm_data_type: Time-series\n",
       "    area: North Atlantic Ocean\n",
       "    geospatial_lat_min: 25.0\n",
       "    geospatial_lat_max: 37.43\n",
       "    geospatial_lon_min: -20.0\n",
       "    geospatial_lon_max: -0.75\n",
       "    geospatial_vertical_min:  \n",
       "    geospatial_vertical_max:  \n",
       "    time_coverage_start: 1998-03-27T21:00:00Z\n",
       "    time_coverage_end: 2015-08-02T09:00:00Z\n",
       "    institution_references: http://www.puertos.es\n",
       "    contact: mar@puertos.es, mar@puertos.es\n",
       "    author: Marta de Alfonso\n",
       "    data_assembly_center: Puertos del Estado\n",
       "    pi_name: PdE\n",
       "    distribution_statement: These data follow MyOcean standards; they are public and free of charge. User assumes all risk for use of data. User must display citation in any publication or product using data. User must contact PI prior to any commercial use of data. More on: http://www.myocean.eu/data_policy\n",
       "    citation: These data were collected and made freely available by the MyOcean project and the programs that contribute to it\n",
       "    update_interval: yearly\n",
       "    qc_manual: OceanSITES User's Manual v1.1\n",
       "    dimensions(sizes): TIME(119916), DEPTH(1), LATITUDE(119916), LONGITUDE(119916), POSITION(119916)\n",
       "    variables(dimensions): float64 \u001b[4mTIME\u001b[0m(TIME), int8 \u001b[4mTIME_QC\u001b[0m(TIME), float32 \u001b[4mLATITUDE\u001b[0m(LATITUDE), float32 \u001b[4mLONGITUDE\u001b[0m(LONGITUDE), int8 \u001b[4mPOSITION_QC\u001b[0m(POSITION), float32 \u001b[4mDEPH\u001b[0m(TIME,DEPTH), int8 \u001b[4mDEPH_QC\u001b[0m(TIME,DEPTH), |S1 \u001b[4mDEPH_DM\u001b[0m(TIME,DEPTH), float32 \u001b[4mVTDH\u001b[0m(TIME,DEPTH), int8 \u001b[4mVTDH_QC\u001b[0m(TIME,DEPTH), |S1 \u001b[4mVTDH_DM\u001b[0m(TIME,DEPTH), float32 \u001b[4mVTZA\u001b[0m(TIME,DEPTH), int8 \u001b[4mVTZA_QC\u001b[0m(TIME,DEPTH), |S1 \u001b[4mVTZA_DM\u001b[0m(TIME,DEPTH), float32 \u001b[4mVDIR\u001b[0m(TIME,DEPTH), int8 \u001b[4mVDIR_QC\u001b[0m(TIME,DEPTH), |S1 \u001b[4mVDIR_DM\u001b[0m(TIME,DEPTH), float32 \u001b[4mATMS\u001b[0m(TIME,DEPTH), int8 \u001b[4mATMS_QC\u001b[0m(TIME,DEPTH), |S1 \u001b[4mATMS_DM\u001b[0m(TIME,DEPTH), float32 \u001b[4mDRYT\u001b[0m(TIME,DEPTH), int8 \u001b[4mDRYT_QC\u001b[0m(TIME,DEPTH), |S1 \u001b[4mDRYT_DM\u001b[0m(TIME,DEPTH), float32 \u001b[4mWSPD\u001b[0m(TIME,DEPTH), int8 \u001b[4mWSPD_QC\u001b[0m(TIME,DEPTH), |S1 \u001b[4mWSPD_DM\u001b[0m(TIME,DEPTH), float32 \u001b[4mWDIR\u001b[0m(TIME,DEPTH), int8 \u001b[4mWDIR_QC\u001b[0m(TIME,DEPTH), |S1 \u001b[4mWDIR_DM\u001b[0m(TIME,DEPTH), float32 \u001b[4mHCSP\u001b[0m(TIME,DEPTH), int8 \u001b[4mHCSP_QC\u001b[0m(TIME,DEPTH), |S1 \u001b[4mHCSP_DM\u001b[0m(TIME,DEPTH), float32 \u001b[4mHCDT\u001b[0m(TIME,DEPTH), int8 \u001b[4mHCDT_QC\u001b[0m(TIME,DEPTH), |S1 \u001b[4mHCDT_DM\u001b[0m(TIME,DEPTH), float32 \u001b[4mTEMP\u001b[0m(TIME,DEPTH), int8 \u001b[4mTEMP_QC\u001b[0m(TIME,DEPTH), |S1 \u001b[4mTEMP_DM\u001b[0m(TIME,DEPTH), float32 \u001b[4mPSAL\u001b[0m(TIME,DEPTH), int8 \u001b[4mPSAL_QC\u001b[0m(TIME,DEPTH), |S1 \u001b[4mPSAL_DM\u001b[0m(TIME,DEPTH)\n",
       "    groups: "
      ]
     },
     "execution_count": 8,
     "metadata": {},
     "output_type": "execute_result"
    }
   ],
   "source": [
    "ds"
   ]
  },
  {
   "cell_type": "markdown",
   "metadata": {},
   "source": [
    "We can access the global attributes individually:"
   ]
  },
  {
   "cell_type": "code",
   "execution_count": 9,
   "metadata": {
    "collapsed": false
   },
   "outputs": [
    {
     "name": "stdout",
     "output_type": "stream",
     "text": [
      "Institution: Puertos del Estado (Spain)\n",
      "Reference: http://www.puertos.es\n"
     ]
    }
   ],
   "source": [
    "print 'Institution: ' + ds.institution\n",
    "print 'Reference: ' + ds.institution_references"
   ]
  },
  {
   "cell_type": "markdown",
   "metadata": {},
   "source": [
    "## Data"
   ]
  },
  {
   "cell_type": "markdown",
   "metadata": {},
   "source": [
    "Now we want to load some of the variables: we use the *ds.variables*"
   ]
  },
  {
   "cell_type": "code",
   "execution_count": 10,
   "metadata": {
    "collapsed": true
   },
   "outputs": [],
   "source": [
    "time = ds.variables['TIME']\n",
    "temperature = ds.variables['TEMP']"
   ]
  },
  {
   "cell_type": "markdown",
   "metadata": {},
   "source": [
    "Let's examine the variable temperature"
   ]
  },
  {
   "cell_type": "code",
   "execution_count": 11,
   "metadata": {
    "collapsed": false
   },
   "outputs": [
    {
     "data": {
      "text/plain": [
       "<type 'netCDF4._netCDF4.Variable'>\n",
       "float32 TEMP(TIME, DEPTH)\n",
       "    long_name: Sea temperature\n",
       "    standard_name: sea_water_temperature\n",
       "    units: degree_Celsius\n",
       "    _FillValue: 99999.0\n",
       "    QC_procedure: 1\n",
       "    valid_min: 0.0\n",
       "    valid_max: 31.0\n",
       "    comment:  \n",
       "    sensor_depth: 3.0\n",
       "    ancillary_variables: TEMP_QC\n",
       "    sensor_mount:  \n",
       "    sensor_orientation:  \n",
       "    DM_indicator: D\n",
       "unlimited dimensions: TIME\n",
       "current shape = (119916, 1)\n",
       "filling off"
      ]
     },
     "execution_count": 11,
     "metadata": {},
     "output_type": "execute_result"
    }
   ],
   "source": [
    "temperature"
   ]
  },
  {
   "cell_type": "markdown",
   "metadata": {},
   "source": [
    "This means that the variable depends on two dimensions: time and depth. We also know the long_name, standard_name, units, and other useful pieces of information concerning the temperature.\n",
    "\n",
    "To get the values corresponding to the variables, the synthax is:"
   ]
  },
  {
   "cell_type": "code",
   "execution_count": 12,
   "metadata": {
    "collapsed": false
   },
   "outputs": [],
   "source": [
    "temperature_values = temperature[:]\n",
    "time_values = time[:]"
   ]
  },
  {
   "cell_type": "markdown",
   "metadata": {},
   "source": [
    "To get the variable attributes:"
   ]
  },
  {
   "cell_type": "code",
   "execution_count": 13,
   "metadata": {
    "collapsed": false
   },
   "outputs": [
    {
     "name": "stdout",
     "output_type": "stream",
     "text": [
      "Time units: days since 1950-01-01T00:00:00Z\n",
      "Temperature units: degree_Celsius\n"
     ]
    }
   ],
   "source": [
    "print 'Time units: ' + time.units\n",
    "print 'Temperature units: ' + temperature.units"
   ]
  },
  {
   "cell_type": "markdown",
   "metadata": {},
   "source": [
    "## Quality flags"
   ]
  },
  {
   "cell_type": "markdown",
   "metadata": {},
   "source": [
    "Just a quick plot to see everything is fine. More details about the plots will be given later."
   ]
  },
  {
   "cell_type": "code",
   "execution_count": 15,
   "metadata": {
    "collapsed": false
   },
   "outputs": [
    {
     "data": {
      "image/png": "[encoded data removed]",
      "text/plain": [
       "<matplotlib.figure.Figure at 0x1e55e50>"
      ]
     },
     "metadata": {},
     "output_type": "display_data"
    }
   ],
   "source": [
    "%matplotlib inline\n",
    "import matplotlib.pyplot as plt\n",
    "plt.plot(temperature)\n",
    "plt.show()"
   ]
  },
  {
   "cell_type": "markdown",
   "metadata": {},
   "source": [
    "It seems that we have not taken into accound the quality flags of the data. We can load the corresponding variable *TEMP_QC*."
   ]
  },
  {
   "cell_type": "code",
   "execution_count": 17,
   "metadata": {
    "collapsed": false
   },
   "outputs": [
    {
     "data": {
      "image/png": "[encoded data removed]",
      "text/plain": [
       "<matplotlib.figure.Figure at 0x3ce5c10>"
      ]
     },
     "metadata": {},
     "output_type": "display_data"
    }
   ],
   "source": [
    "temperatureQC = ds.variables['TEMP_QC']\n",
    "plt.plot(temperatureQC[:])\n",
    "plt.show()"
   ]
  },
  {
   "cell_type": "markdown",
   "metadata": {},
   "source": [
    "The meaning of the quality flags is also stored in the file."
   ]
  },
  {
   "cell_type": "code",
   "execution_count": 18,
   "metadata": {
    "collapsed": false
   },
   "outputs": [
    {
     "name": "stdout",
     "output_type": "stream",
     "text": [
      "Flag values: [0 1 2 3 4 5 6 7 8 9]\n",
      "Flag meanings: no_qc_performed good_data probably_good_data bad_data_that_are_potentially_correctable bad_data value_changed not_used nominal_value interpolated_value missing_value\n"
     ]
    }
   ],
   "source": [
    "print 'Flag values: ' + str(temperatureQC.flag_values)\n",
    "print 'Flag meanings: ' + temperatureQC.flag_meanings"
   ]
  },
  {
   "cell_type": "markdown",
   "metadata": {},
   "source": [
    "Now we will generate a new plot of the time series using only data with **QF = 1**."
   ]
  },
  {
   "cell_type": "code",
   "execution_count": 19,
   "metadata": {
    "collapsed": false
   },
   "outputs": [
    {
     "data": {
      "image/png": "[encoded data removed]",
      "text/plain": [
       "<matplotlib.figure.Figure at 0x1d46890>"
      ]
     },
     "metadata": {},
     "output_type": "display_data"
    }
   ],
   "source": [
    "plt.plot(temperature[(temperatureQC[:, 0] == 1), 0])\n",
    "plt.show()"
   ]
  },
  {
   "cell_type": "markdown",
   "metadata": {},
   "source": [
    "The resulting plot now seems correct, with values ranging roughly between 10 and 28ºC.\n",
    "\n",
    "Last thing to remember: close the netCDF file!"
   ]
  },
  {
   "cell_type": "code",
   "execution_count": 43,
   "metadata": {
    "collapsed": true
   },
   "outputs": [],
   "source": [
    "nc.close()"
   ]
  }
 ],
 "metadata": {
  "kernelspec": {
   "display_name": "Python 2",
   "language": "python",
   "name": "python2"
  },
  "language_info": {
   "codemirror_mode": {
    "name": "ipython",
    "version": 2
   },
   "file_extension": ".py",
   "mimetype": "text/x-python",
   "name": "python",
   "nbconvert_exporter": "python",
   "pygments_lexer": "ipython2",
   "version": "2.7.5+"
  }
 },
 "nbformat": 4,
 "nbformat_minor": 0
}
